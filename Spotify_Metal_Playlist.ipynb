{
 "cells": [
  {
   "cell_type": "code",
   "execution_count": 1,
   "metadata": {},
   "outputs": [],
   "source": [
    "import spotipy\n",
    "from spotipy.oauth2 import SpotifyClientCredentials\n",
    "import pandas as pd"
   ]
  },
  {
   "cell_type": "code",
   "execution_count": 2,
   "metadata": {},
   "outputs": [],
   "source": [
    "CLIENT_ID = 'xxxxxxxxxxxxx' # Your Client ID\n",
    "CLIENT_SECRET = 'XXXXXXXXXXXX' # Your Client Secret authentication code\n",
    "\n",
    "client_credentials_manager = SpotifyClientCredentials(client_id=CLIENT_ID,\n",
    "                                                      client_secret=CLIENT_SECRET)\n"
   ]
  },
  {
   "cell_type": "code",
   "execution_count": 3,
   "metadata": {},
   "outputs": [],
   "source": [
    "sp = spotipy.Spotify(client_credentials_manager=client_credentials_manager)"
   ]
  },
  {
   "cell_type": "code",
   "execution_count": 4,
   "metadata": {},
   "outputs": [],
   "source": [
    "#Single Playlist\n",
    "def analyze_playlist(creator, playlist_id):\n",
    "    # Create empty dataframe\n",
    "    playlist_features_list = [\"artist\", \"album\", \"track_name\", \"track_id\",\"genre\"\n",
    "                              \"danceability\", \"energy\", \"key\", \"loudness\", \"mode\", \"speechiness\",\n",
    "                              \"instrumentalness\", \"liveness\", \"valence\", \"tempo\", \"duration_ms\", \"time_signature\"]\n",
    "    playlist_df = pd.DataFrame(columns=playlist_features_list)\n",
    "\n",
    "    # Create empty dict\n",
    "    playlist_features = {}\n",
    "\n",
    "\n",
    "    # Loop through every track in the playlist, extract features and append the features to the playlist df\n",
    "    playlist = sp.user_playlist_tracks(creator,playlist_id)\n",
    "    for track in playlist[\"items\"]:\n",
    "        # Get metadata\n",
    "        playlist_features[\"artist\"] = track[\"track\"][\"album\"][\"artists\"][0][\"name\"]\n",
    "        playlist_features[\"album\"] = track[\"track\"][\"album\"][\"name\"]\n",
    "        playlist_features[\"track_name\"] = track[\"track\"][\"name\"]\n",
    "        playlist_features[\"track_id\"] = track[\"track\"][\"id\"]\n",
    "        playlist_features[\"popularity\"] = track[\"track\"][\"popularity\"]\n",
    "\n",
    "        # Audio features\n",
    "        audio_features = sp.audio_features(playlist_features[\"track_id\"])[0]\n",
    "        for feature in playlist_features_list[5:]:\n",
    "            playlist_features[feature] = audio_features[feature]\n",
    "\n",
    "        # Concat the dfs\n",
    "        track_df = pd.DataFrame(playlist_features, index=[0])\n",
    "        playlist_df = pd.concat([playlist_df, track_df], ignore_index=True)\n",
    "\n",
    "    return playlist_df\n"
   ]
  },
  {
   "cell_type": "code",
   "execution_count": 5,
   "metadata": {},
   "outputs": [],
   "source": [
    "#Dictionary of Spotify Metal Playlists\n",
    "\n",
    "playlist_dict = {\n",
    "'Kickass Metal':('spotify','37i9dQZF1DWTcqUzwhNmKv'),\n",
    "#'New Metal':('spotify', '37i9dQZF1DX5J7FIl4q56G'),# not working\n",
    "'New Core':('spotify','37i9dQZF1DWXIcbzpLauPS'),\n",
    "'Metal Talks Napalm Death' : ('spotify','37i9dQZF1DXcfZ6moR6J0G'),\n",
    "'Nu Metal Generation' : ('spotify', '37i9dQZF1DXcfZ6moR6J0G'),\n",
    "                    'Old School Metal' : ('spotify','37i9dQZF1DX2LTcinqsO68'),\n",
    "                    '90s Metal Classics' : ('spotify','37i9dQZF1DX08jcQJXDnEQ'),\n",
    "                    'Heavy Metal' : ('spotify','37i9dQZF1DX9qNs32fujYe'),\n",
    "                    '00s Metal Classics' : ('spotify','37i9dQZF1DWXNFSTtym834'),\n",
    "                    'Metal Essentials' : ('spotify','37i9dQZF1DWWOaP4H0w5b0'),\n",
    "                    'Stoner Rock' : ('spotify','37i9dQZF1DXdpVGstUksUC'),\n",
    "                    'Deathcore' : ('spotify','37i9dQZF1DX1cJWWyylDuw'),\n",
    "                    'Top Of The Core' : ('spotify','37i9dQZF1DXakaomPRkkDa'),\n",
    "                    'Ultimate Metal' : ('spotify','37i9dQZF1DWXHwQpcoF2cC'),\n",
    "                    'Metal Ballads' : ('spotify','37i9dQZF1DX1kydukZhLms'),\n",
    "                    #'Northern Spirits' : ('spotify','37i9dQZF1DWXhcuQw7KIeM'),\n",
    "                    'Thrashers' : ('spotify','37i9dQZF1DWZdFtcHGe8ED'),\n",
    "                    'Epic & Melodic' : ('spotify','37i9dQZF1DX37bXS7EGI3f'),\n",
    "                    'Instrumental Madness' : ('spotify','37i9dQZF1DWUk47CLxI4Uo'),\n",
    "                    'Heavy Queens' : ('spotify','37i9dQZF1DWXDJDWnzE39E'),\n",
    "                    'Heavy Beatdown' : ('spotify','37i9dQZF1DWXV6myh1fJyL'),\n",
    "                    'Got Djent?' : ('spotify','37i9dQZF1DX6GRSnGELn7L'),\n",
    "                    'Metalcore Classics' : ('spotify','37i9dQZF1DX6P51sFpSo2r'),\n",
    "                    '10s Metal Classics' : ('spotify','37i9dQZF1DWUnhhRs5u3TO'),\n",
    "                    'Industrial Metal' : ('spotify','37i9dQZF1DX29LQDcJ6Xy7'),\n",
    "                    'Metal Empire' : ('spotify','37i9dQZF1DX4jCqmsDQR1i'),\n",
    "                    'Progressive Metal' : ('spotify','37i9dQZF1DX5wgKYQVRARv'),\n",
    "                    'Thrash Metal Essentials' : ('spotify','37i9dQZF1DXbyrUWMp2Tkr'),\n",
    "                    'Metal Covers' : ('spotify','37i9dQZF1DWUJiNTfqDwyS'),\n",
    "                    'Hard Rock' : ('spotify','37i9dQZF1DX1X7WV84927n'),\n",
    "                    'Death Metal & Beyond' : ('spotify','37i9dQZF1DWT9SRKhOEUYj'),\n",
    "                    'New Blood' : ('spotify','37i9dQZF1DXdiUbJTV2anj'),\n",
    "                    'Doom & Sludge' : ('spotify','37i9dQZF1DX01pnDyBSEgS'),\n",
    "                    'Black Metal Classics' : ('spotify','37i9dQZF1DWW4nzWPdpBAz'),\n",
    "                    'Black & Dark Metal' : ('spotify','37i9dQZF1DXbl9rMxGEmRC'),\n",
    "                    'Death & Grind Classics' : ('spotify','37i9dQZF1DX5dWVbnmtiDv'),\n",
    "                    'The oThers' : ('spotify','37i9dQZF1DWY5ai7gxfuaS'),\n",
    "                    'The Metal Festival' : ('spotify','37i9dQZF1DX5hkGHr0ICaZ'),\n",
    "                    'Metal Charge 180 BPM' : ('spotify','37i9dQZF1DX06VUQ1GoKge'),\n",
    "                    'Extreme Metal Workout' : ('spotify','37i9dQZF1DWY3PJWG3ogmJ'),\n",
    "                    'Arab Metal' : ('spotify','37i9dQZF1DXaqykGqi6KX8'),\n",
    "                    'Metal de Nuestras Tierras' : ('spotify','37i9dQZF1DX3gzwlIik99M'),\n",
    "                    'Rock Love Songs' : ('spotify','37i9dQZF1DX7Z7kYpKKGTc'),\n",
    "                    'Metallia ja rokkia juoksulenkille' : ('spotify','37i9dQZF1DX5lnWe2pWowY'),\n",
    "                    'Imperio do Metal' : ('spotify','37i9dQZF1DX8MxTboxJuGE'),\n",
    "                    'Krolowie Metalu' : ('spotify','37i9dQZF1DWVmbUwYMBcTC'),\n",
    "                    'This is Ozzy Osbourne' : ('spotify','37i9dQZF1DWUClLOPir3UO'),\n",
    "                    'This is Eagles of Death metal' : ('spotify','37i9dQZF1DZ06evNZX1NXG'),\n",
    "                    'No Metal, No Gain' : ('spotify','37i9dQZF1DWUF29yI0kVcO'),\n",
    "                    \"Metal Francais:l'essentiel\" : ('spotify','37i9dQZF1DWZq7PTT5qaHo'),\n",
    "                    'La Bestia' : ('spotify','37i9dQZF1DXdMp10y0r6l2'),\n",
    "                    'Metal in India' : ('spotify','37i9dQZF1DXaBtnuKOjnN8'),\n",
    "                    'This is Power Metal' : ('spotify','37i9dQZF1DZ06evO49Re94'),\n",
    "                    'Crash Course' : ('spotify','37i9dQZF1DX3YlUroplxjF'),\n",
    "                    'Headbanger Classics' : ('spotify','37i9dQZF1DX5w5diiKLRYO'),\n",
    "                    'Schwer & Laut' : ('spotify','37i9dQZF1DWZN3gVabOSs8'),\n",
    "                    \"Billy's Pedal to the Metal\" : ('spotify','37i9dQZF1DWV4uESlX2xMx')}\n",
    "#                     'Metal christmas' : ('spotify','37i9dQZF1DX0LctmTPNQ3v'),\n",
    "#                     'Instrumental Rock' : ('spotify','2uhsnHgI4F2eFyvoMHY0GR'),\n",
    "#                     'Classic Hardcore' : ('spotify','37i9dQZF1DXaGNG7NmtmZv'),\n",
    "#                     'Ultimate Rock Gaming' : ('spotify','37i9dQZF1DWZjmJmeiazwd'),\n",
    "#                     'Metal China' : ('spotify','37i9dQZF1DX06YQ7tRQNob'),\n",
    "#                     'New Wave of British Heavy Metal' : ('spotify','7yza99mVQaqnk4Hqs4T3kq'),\n",
    "#                     'This is: Dillinger Escape Plan' : ('spotify','37i9dQZF1DXc4KDt2dpmuP'),\n",
    "#                     'This is Metal Carter' : ('spotify','37i9dQZF1DZ06evO0lrpZ3')\n",
    "# }\n"
   ]
  },
  {
   "cell_type": "code",
   "execution_count": 6,
   "metadata": {},
   "outputs": [],
   "source": [
    "#Concatenating Multiple Playlists\n",
    "def analyze_playlist_dict(playlist_dict):\n",
    "    # Loop through every playlist in the dict and analyze it\n",
    "    for i, (key, val) in enumerate(playlist_dict.items()):\n",
    "        playlist_df = analyze_playlist(*val)\n",
    "        # Add a playlist column so that we can see which playlist a track belongs to\n",
    "        #playlist_df[\"playlist\"] = key\n",
    "        # Create or concat df\n",
    "        if i == 0:\n",
    "            playlist_dict_df = playlist_df\n",
    "        else:\n",
    "            playlist_dict_df = pd.concat([playlist_dict_df, playlist_df], ignore_index=True)\n",
    "\n",
    "    return playlist_dict_df\n"
   ]
  },
  {
   "cell_type": "code",
   "execution_count": 7,
   "metadata": {},
   "outputs": [
    {
     "name": "stderr",
     "output_type": "stream",
     "text": [
      "C:\\Users\\sanat\\AppData\\Roaming\\Python\\Python37\\site-packages\\ipykernel_launcher.py:30: FutureWarning: Sorting because non-concatenation axis is not aligned. A future version\n",
      "of pandas will change to not sort by default.\n",
      "\n",
      "To accept the future behavior, pass 'sort=False'.\n",
      "\n",
      "To retain the current behavior and silence the warning, pass 'sort=True'.\n",
      "\n"
     ]
    }
   ],
   "source": [
    "m_playlist_df = analyze_playlist_dict(playlist_dict)\n",
    "\n"
   ]
  },
  {
   "cell_type": "code",
   "execution_count": 8,
   "metadata": {},
   "outputs": [
    {
     "data": {
      "text/plain": [
       "Index(['album', 'artist', 'duration_ms', 'energy', 'genredanceability',\n",
       "       'instrumentalness', 'key', 'liveness', 'loudness', 'mode', 'popularity',\n",
       "       'speechiness', 'tempo', 'time_signature', 'track_id', 'track_name',\n",
       "       'valence'],\n",
       "      dtype='object')"
      ]
     },
     "execution_count": 8,
     "metadata": {},
     "output_type": "execute_result"
    }
   ],
   "source": [
    "m_playlist_df.tail()\n",
    "m_playlist_df.columns\n",
    "\n"
   ]
  },
  {
   "cell_type": "code",
   "execution_count": 9,
   "metadata": {},
   "outputs": [],
   "source": [
    "m_playlist_df.to_csv(\"Metal.csv\")\n"
   ]
  },
  {
   "cell_type": "code",
   "execution_count": null,
   "metadata": {},
   "outputs": [],
   "source": []
  }
 ],
 "metadata": {
  "kernelspec": {
   "display_name": "Python 3",
   "language": "python",
   "name": "python3"
  },
  "language_info": {
   "codemirror_mode": {
    "name": "ipython",
    "version": 3
   },
   "file_extension": ".py",
   "mimetype": "text/x-python",
   "name": "python",
   "nbconvert_exporter": "python",
   "pygments_lexer": "ipython3",
   "version": "3.7.6"
  }
 },
 "nbformat": 4,
 "nbformat_minor": 4
}
